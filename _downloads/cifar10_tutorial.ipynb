{
  "cells": [
    {
      "cell_type": "markdown",
      "metadata": {
        "id": "view-in-github",
        "colab_type": "text"
      },
      "source": [
        "<a href=\"https://colab.research.google.com/github/hcmute-toan/ML/blob/master/_downloads/cifar10_tutorial.ipynb\" target=\"_parent\"><img src=\"https://colab.research.google.com/assets/colab-badge.svg\" alt=\"Open In Colab\"/></a>"
      ]
    },
    {
      "cell_type": "code",
      "execution_count": 1,
      "metadata": {
        "id": "nECgTW-GVfqg"
      },
      "outputs": [],
      "source": [
        "%matplotlib inline"
      ]
    },
    {
      "cell_type": "markdown",
      "metadata": {
        "id": "4QpbzHhTVfqi"
      },
      "source": [
        "\n",
        "Training a Classifier\n",
        "=====================\n",
        "\n",
        "This is it. You have seen how to define neural networks, compute loss and make\n",
        "updates to the weights of the network.\n",
        "\n",
        "Now you might be thinking,\n",
        "\n",
        "What about data?\n",
        "----------------\n",
        "\n",
        "Generally, when you have to deal with image, text, audio or video data,\n",
        "you can use standard python packages that load data into a numpy array.\n",
        "Then you can convert this array into a ``torch.*Tensor``.\n",
        "\n",
        "-  For images, packages such as Pillow, OpenCV are useful\n",
        "-  For audio, packages such as scipy and librosa\n",
        "-  For text, either raw Python or Cython based loading, or NLTK and\n",
        "   SpaCy are useful\n",
        "\n",
        "Specifically for vision, we have created a package called\n",
        "``torchvision``, that has data loaders for common datasets such as\n",
        "Imagenet, CIFAR10, MNIST, etc. and data transformers for images, viz.,\n",
        "``torchvision.datasets`` and ``torch.utils.data.DataLoader``.\n",
        "\n",
        "This provides a huge convenience and avoids writing boilerplate code.\n",
        "\n",
        "For this tutorial, we will use the CIFAR10 dataset.\n",
        "It has the classes: ‘airplane’, ‘automobile’, ‘bird’, ‘cat’, ‘deer’,\n",
        "‘dog’, ‘frog’, ‘horse’, ‘ship’, ‘truck’. The images in CIFAR-10 are of\n",
        "size 3x32x32, i.e. 3-channel color images of 32x32 pixels in size.\n",
        "\n",
        ".. figure:: /_static/img/cifar10.png\n",
        "   :alt: cifar10\n",
        "\n",
        "   cifar10\n",
        "\n",
        "\n",
        "Training an image classifier\n",
        "----------------------------\n",
        "\n",
        "We will do the following steps in order:\n",
        "\n",
        "1. Load and normalizing the CIFAR10 training and test datasets using\n",
        "   ``torchvision``\n",
        "2. Define a Convolution Neural Network\n",
        "3. Define a loss function\n",
        "4. Train the network on the training data\n",
        "5. Test the network on the test data\n",
        "\n",
        "1. Loading and normalizing CIFAR10\n",
        "^^^^^^^^^^^^^^^^^^^^^^^^^^^^^^^^^^\n",
        "\n",
        "Using ``torchvision``, it’s extremely easy to load CIFAR10.\n",
        "\n"
      ]
    },
    {
      "cell_type": "code",
      "execution_count": 2,
      "metadata": {
        "id": "93BBUFwQVfqk"
      },
      "outputs": [],
      "source": [
        "import torch\n",
        "import torchvision\n",
        "import torchvision.transforms as transforms"
      ]
    },
    {
      "cell_type": "markdown",
      "metadata": {
        "id": "WtaNSroSVfqk"
      },
      "source": [
        "The output of torchvision datasets are PILImage images of range [0, 1].\n",
        "We transform them to Tensors of normalized range [-1, 1].\n",
        "\n"
      ]
    },
    {
      "cell_type": "code",
      "execution_count": 3,
      "metadata": {
        "id": "niBaf_FJVfqk",
        "outputId": "8f348e52-6867-44e4-b4a5-f4ecc7fdbae7",
        "colab": {
          "base_uri": "https://localhost:8080/"
        }
      },
      "outputs": [
        {
          "output_type": "stream",
          "name": "stderr",
          "text": [
            "100%|██████████| 170M/170M [00:05<00:00, 29.6MB/s]\n"
          ]
        }
      ],
      "source": [
        "transform = transforms.Compose(\n",
        "    [transforms.ToTensor(),\n",
        "     transforms.Normalize((0.5, 0.5, 0.5), (0.5, 0.5, 0.5))])\n",
        "\n",
        "trainset = torchvision.datasets.CIFAR10(root='./data', train=True,\n",
        "                                        download=True, transform=transform)\n",
        "trainloader = torch.utils.data.DataLoader(trainset, batch_size=4,\n",
        "                                          shuffle=True, num_workers=2)\n",
        "\n",
        "testset = torchvision.datasets.CIFAR10(root='./data', train=False,\n",
        "                                       download=True, transform=transform)\n",
        "testloader = torch.utils.data.DataLoader(testset, batch_size=4,\n",
        "                                         shuffle=False, num_workers=2)\n",
        "\n",
        "classes = ('plane', 'car', 'bird', 'cat',\n",
        "           'deer', 'dog', 'frog', 'horse', 'ship', 'truck')"
      ]
    },
    {
      "cell_type": "markdown",
      "metadata": {
        "id": "hYJzd2hAVfqk"
      },
      "source": [
        "Let us show some of the training images, for fun.\n",
        "\n"
      ]
    },
    {
      "cell_type": "code",
      "execution_count": 7,
      "metadata": {
        "id": "-6JK6dQbVfql",
        "outputId": "d401aa42-0f59-448a-a60f-28abee87d1af",
        "colab": {
          "base_uri": "https://localhost:8080/",
          "height": 210
        }
      },
      "outputs": [
        {
          "output_type": "stream",
          "name": "stdout",
          "text": [
            " deer  bird  deer  ship\n"
          ]
        },
        {
          "output_type": "display_data",
          "data": {
            "text/plain": [
              "<Figure size 640x480 with 1 Axes>"
            ],
            "image/png": "[encoded data removed]"
          },
          "metadata": {}
        }
      ],
      "source": [
        "import matplotlib.pyplot as plt\n",
        "import numpy as np\n",
        "import torch # Giả sử bạn đã import torch\n",
        "import torchvision # Cần thiết cho torchvision.utils.make_grid\n",
        "\n",
        "# functions to show an image\n",
        "def imshow(img):\n",
        "    img = img / 2 + 0.5     # unnormalize\n",
        "    npimg = img.numpy()\n",
        "    plt.imshow(np.transpose(npimg, (1, 2, 0)))\n",
        "\n",
        "# get some random training images\n",
        "dataiter = iter(trainloader) # trainloader cần được định nghĩa trước đó\n",
        "images, labels = next(dataiter) # SỬA Ở ĐÂY\n",
        "\n",
        "# show images\n",
        "imshow(torchvision.utils.make_grid(images))\n",
        "\n",
        "# print labels\n",
        "# classes cần được định nghĩa trước đó, ví dụ: classes = ('plane', 'car', ...)\n",
        "print(' '.join('%5s' % classes[labels[j]] for j in range(len(images)))) # Giả sử batch size là len(images)\n",
        "                                                                     # Hoặc range(4) nếu bạn chỉ muốn in 4 nhãn đầu tiên\n",
        "                                                                     # và batch size của bạn >= 4"
      ]
    },
    {
      "cell_type": "markdown",
      "metadata": {
        "id": "5r65e6j3Vfql"
      },
      "source": [
        "2. Define a Convolution Neural Network\n",
        "^^^^^^^^^^^^^^^^^^^^^^^^^^^^^^^^^^^^^^\n",
        "Copy the neural network from the Neural Networks section before and modify it to\n",
        "take 3-channel images (instead of 1-channel images as it was defined).\n",
        "\n"
      ]
    },
    {
      "cell_type": "code",
      "execution_count": 20,
      "metadata": {
        "id": "bM78ZoCtVfql",
        "outputId": "71d073fa-7c6d-41cb-b0a5-3ba099345d64",
        "colab": {
          "base_uri": "https://localhost:8080/"
        }
      },
      "outputs": [
        {
          "output_type": "stream",
          "name": "stdout",
          "text": [
            "model\n",
            "Model3(\n",
            "  (conv5_1): Conv2d(3, 32, kernel_size=(5, 5), stride=(1, 1), padding=(1, 1))\n",
            "  (conv5_2): Conv2d(32, 32, kernel_size=(5, 5), stride=(1, 1))\n",
            "  (conv5_3): Conv2d(32, 64, kernel_size=(5, 5), stride=(1, 1))\n",
            "  (pool5_1): MaxPool2d(kernel_size=2, stride=2, padding=0, dilation=1, ceil_mode=False)\n",
            "  (conv5_4): Conv2d(64, 64, kernel_size=(5, 5), stride=(1, 1), padding=(2, 2))\n",
            "  (conv5_5): Conv2d(64, 64, kernel_size=(5, 5), stride=(1, 1), padding=(2, 2))\n",
            "  (conv5_6): Conv2d(128, 128, kernel_size=(5, 5), stride=(1, 1), padding=(2, 2))\n",
            "  (conv5_7): Conv2d(128, 128, kernel_size=(5, 5), stride=(1, 1), padding=(2, 2))\n",
            "  (conv5_8): Conv2d(128, 128, kernel_size=(5, 5), stride=(1, 1), padding=(2, 2))\n",
            "  (conv5_9): Conv2d(128, 128, kernel_size=(3, 3), stride=(1, 1), padding=(1, 1))\n",
            "  (conv5_10): Conv2d(128, 128, kernel_size=(3, 3), stride=(1, 1))\n",
            "  (conv3_1): Conv2d(128, 256, kernel_size=(3, 3), stride=(1, 1), padding=(1, 1))\n",
            "  (conv3_2): Conv2d(256, 256, kernel_size=(3, 3), stride=(1, 1), padding=(1, 1))\n",
            "  (pool3_1): MaxPool2d(kernel_size=2, stride=2, padding=0, dilation=1, ceil_mode=False)\n",
            "  (conv3_3): Conv2d(256, 256, kernel_size=(3, 3), stride=(1, 1), padding=(1, 1))\n",
            "  (conv3_4): Conv2d(256, 256, kernel_size=(3, 3), stride=(1, 1), padding=(1, 1))\n",
            "  (conv3_5): Conv2d(512, 512, kernel_size=(3, 3), stride=(1, 1), padding=(1, 1))\n",
            "  (conv3_6): Conv2d(512, 512, kernel_size=(3, 3), stride=(1, 1), padding=(1, 1))\n",
            "  (conv3_7): Conv2d(512, 512, kernel_size=(3, 3), stride=(1, 1), padding=(1, 1))\n",
            "  (conv3_8): Conv2d(512, 512, kernel_size=(3, 3), stride=(1, 1), padding=(1, 1))\n",
            "  (conv3_9): Conv2d(512, 512, kernel_size=(3, 3), stride=(1, 1))\n",
            "  (conv3_10): Conv2d(512, 512, kernel_size=(1, 1), stride=(1, 1))\n",
            "  (fc1): Linear(in_features=512, out_features=1024, bias=True)\n",
            "  (fc2): Linear(in_features=1024, out_features=10, bias=True)\n",
            ")\n",
            "----------------------------------------------------------------\n",
            "        Layer (type)               Output Shape         Param #\n",
            "================================================================\n",
            "            Conv2d-1           [-1, 32, 30, 30]           2,432\n",
            "            Conv2d-2           [-1, 32, 26, 26]          25,632\n",
            "            Conv2d-3           [-1, 64, 22, 22]          51,264\n",
            "         MaxPool2d-4           [-1, 64, 11, 11]               0\n",
            "            Conv2d-5           [-1, 64, 11, 11]         102,464\n",
            "            Conv2d-6           [-1, 64, 11, 11]         102,464\n",
            "            Conv2d-7          [-1, 128, 11, 11]         409,728\n",
            "            Conv2d-8          [-1, 128, 11, 11]         409,728\n",
            "            Conv2d-9          [-1, 128, 11, 11]         409,728\n",
            "           Conv2d-10          [-1, 128, 11, 11]         147,584\n",
            "           Conv2d-11            [-1, 128, 9, 9]         147,584\n",
            "           Conv2d-12            [-1, 256, 9, 9]         295,168\n",
            "           Conv2d-13            [-1, 256, 9, 9]         590,080\n",
            "        MaxPool2d-14            [-1, 256, 4, 4]               0\n",
            "           Conv2d-15            [-1, 256, 4, 4]         590,080\n",
            "           Conv2d-16            [-1, 256, 4, 4]         590,080\n",
            "           Conv2d-17            [-1, 512, 4, 4]       2,359,808\n",
            "           Conv2d-18            [-1, 512, 4, 4]       2,359,808\n",
            "           Conv2d-19            [-1, 512, 4, 4]       2,359,808\n",
            "           Conv2d-20            [-1, 512, 4, 4]       2,359,808\n",
            "           Conv2d-21            [-1, 512, 2, 2]       2,359,808\n",
            "           Conv2d-22            [-1, 512, 2, 2]         262,656\n",
            "           Linear-23                 [-1, 1024]         525,312\n",
            "           Linear-24                   [-1, 10]          10,250\n",
            "================================================================\n",
            "Total params: 16,471,274\n",
            "Trainable params: 16,471,274\n",
            "Non-trainable params: 0\n",
            "----------------------------------------------------------------\n",
            "Input size (MB): 0.01\n",
            "Forward/backward pass size (MB): 2.05\n",
            "Params size (MB): 62.83\n",
            "Estimated Total Size (MB): 64.89\n",
            "----------------------------------------------------------------\n"
          ]
        }
      ],
      "source": [
        "import torch\n",
        "import torch.nn as nn\n",
        "import torch.nn.functional as F\n",
        "from torchsummary import summary\n",
        "\n",
        "class Model3(nn.Module):\n",
        "    def __init__(self):\n",
        "        super(Model3, self).__init__()\n",
        "        # Conv5x5 layers (10 layers)\n",
        "        self.conv5_1 = nn.Conv2d(3, 32, 5, stride=1, padding=1)  # 32x30x30\n",
        "        self.conv5_2 = nn.Conv2d(32, 32, 5, stride=1, padding=0)  # 32x26x26\n",
        "        self.conv5_3 = nn.Conv2d(32, 64, 5, stride=1, padding=0)  # 64x22x22\n",
        "        self.pool5_1 = nn.MaxPool2d(2, 2)  # 64x11x11\n",
        "        self.conv5_4 = nn.Conv2d(64, 64, 5, stride=1, padding=2)  # 64x11x11\n",
        "        self.conv5_5 = nn.Conv2d(64, 64, 5, stride=1, padding=2)  # 64x11x11\n",
        "        self.conv5_6 = nn.Conv2d(128, 128, 5, stride=1, padding=2)  # 128x11x11\n",
        "        self.conv5_7 = nn.Conv2d(128, 128, 5, stride=1, padding=2)  # 128x11x11\n",
        "        self.conv5_8 = nn.Conv2d(128, 128, 5, stride=1, padding=2)  # 128x11x11\n",
        "        self.conv5_9 = nn.Conv2d(128, 128, 3, stride=1, padding=1)  # 128x9x9\n",
        "        self.conv5_10 = nn.Conv2d(128, 128, 3, stride=1, padding=0)  # 128x7x7\n",
        "        # Conv3x3 layers (10 layers)\n",
        "        self.conv3_1 = nn.Conv2d(128, 256, 3, stride=1, padding=1)  # 256x7x7\n",
        "        self.conv3_2 = nn.Conv2d(256, 256, 3, stride=1, padding=1)  # 256x7x7\n",
        "        self.pool3_1 = nn.MaxPool2d(2, 2)  # 256x3x3\n",
        "        self.conv3_3 = nn.Conv2d(256, 256, 3, stride=1, padding=1)  # 256x3x3\n",
        "        self.conv3_4 = nn.Conv2d(256, 256, 3, stride=1, padding=1)  # 256x3x3\n",
        "        self.conv3_5 = nn.Conv2d(512, 512, 3, stride=1, padding=1)  # 512x3x3 (fix input channels)\n",
        "        self.conv3_6 = nn.Conv2d(512, 512, 3, stride=1, padding=1)  # 512x3x3\n",
        "        self.conv3_7 = nn.Conv2d(512, 512, 3, stride=1, padding=1)  # 512x3x3\n",
        "        self.conv3_8 = nn.Conv2d(512, 512, 3, stride=1, padding=1)  # 512x3x3\n",
        "        self.conv3_9 = nn.Conv2d(512, 512, 3, stride=1, padding=0)  # 512x1x1\n",
        "        self.conv3_10 = nn.Conv2d(512, 512, 1, stride=1, padding=0)  # 512x1x1\n",
        "\n",
        "        # Fully connected layers\n",
        "        self.fc1 = nn.Linear(512 * 1 * 1, 1024)\n",
        "        self.fc2 = nn.Linear(1024, 10)\n",
        "\n",
        "    def forward(self, x):\n",
        "        x = F.relu(self.conv5_1(x))  # 32x30x30\n",
        "        x = F.relu(self.conv5_2(x))  # 32x26x26\n",
        "        x = F.relu(self.conv5_3(x))  # 64x22x22\n",
        "        x = self.pool5_1(x)  # 64x11x11\n",
        "        x1 = F.relu(self.conv5_4(x))  # 64x11x11\n",
        "        x2 = F.relu(self.conv5_5(x))  # 64x11x11\n",
        "        x = torch.cat((x1, x2), dim=1)  # 128x11x11\n",
        "        x = F.relu(self.conv5_6(x))  # 128x11x11\n",
        "        x1 = F.relu(self.conv5_7(x))  # 128x11x11\n",
        "        x2 = F.relu(self.conv5_8(x))  # 128x11x11\n",
        "        x = x1 + x2  # 128x11x11 (residual)\n",
        "        x = F.relu(self.conv5_9(x))  # 128x9x9\n",
        "        x = F.relu(self.conv5_10(x))  # 128x7x7\n",
        "        x = F.relu(self.conv3_1(x))  # 256x7x7\n",
        "        x = F.relu(self.conv3_2(x))  # 256x7x7\n",
        "        x = self.pool3_1(x)  # 256x3x3\n",
        "        x1 = F.relu(self.conv3_3(x))  # 256x3x3\n",
        "        x2 = F.relu(self.conv3_4(x))  # 256x3x3\n",
        "        x = torch.cat((x1, x2), dim=1)  # 512x3x3\n",
        "        x = F.relu(self.conv3_5(x))  # 512x3x3\n",
        "        x1 = F.relu(self.conv3_6(x))  # 512x3x3\n",
        "        x2 = F.relu(self.conv3_7(x))  # 512x3x3\n",
        "        x = x1 + x2  # 512x3x3 (residual)\n",
        "        x = F.relu(self.conv3_8(x))  # 512x3x3\n",
        "        x = F.relu(self.conv3_9(x))  # 512x1x1\n",
        "        x = F.relu(self.conv3_10(x))  # 512x1x1\n",
        "        x = x.view(-1, 512 * 1 * 1)  # Flatten\n",
        "        x = F.relu(self.fc1(x))\n",
        "        x = self.fc2(x)  # Output: 10 classes\n",
        "\n",
        "        # Reshape output to match target batch size\n",
        "        x = x.view(x.size(0) // 4, 4, -1) # Reshape into mini-batches of 4\n",
        "        x = torch.mean(x, dim=1) # Average predictions within mini-batches\n",
        "\n",
        "        return x\n",
        "\n",
        "# Instantiate and print model\n",
        "net = Model3()\n",
        "print(\"model\")\n",
        "if torch.cuda.is_available():\n",
        "    net = net.cuda()\n",
        "print(net)\n",
        "summary(net, (3, 32, 32))"
      ]
    },
    {
      "cell_type": "markdown",
      "metadata": {
        "id": "WQJvJpOyVfqm"
      },
      "source": [
        "3. Define a Loss function and optimizer\n",
        "^^^^^^^^^^^^^^^^^^^^^^^^^^^^^^^^^^^^^^^\n",
        "Let's use a Classification Cross-Entropy loss and SGD with momentum.\n",
        "\n"
      ]
    },
    {
      "cell_type": "code",
      "execution_count": 9,
      "metadata": {
        "id": "fm_lqaqWVfqm"
      },
      "outputs": [],
      "source": [
        "import torch.optim as optim\n",
        "\n",
        "criterion = nn.CrossEntropyLoss()\n",
        "optimizer = optim.SGD(net.parameters(), lr=0.001, momentum=0.9)"
      ]
    },
    {
      "cell_type": "markdown",
      "metadata": {
        "id": "LI61KQzdVfqm"
      },
      "source": [
        "4. Train the network\n",
        "^^^^^^^^^^^^^^^^^^^^\n",
        "\n",
        "This is when things start to get interesting.\n",
        "We simply have to loop over our data iterator, and feed the inputs to the\n",
        "network and optimize.\n",
        "\n"
      ]
    },
    {
      "cell_type": "code",
      "execution_count": 21,
      "metadata": {
        "id": "R9HM5SygVfqm",
        "outputId": "974bee53-1a50-4097-882f-00fb960f3052",
        "colab": {
          "base_uri": "https://localhost:8080/"
        }
      },
      "outputs": [
        {
          "output_type": "stream",
          "name": "stdout",
          "text": [
            "[1,  2000] loss: 2.303\n",
            "[2,  2000] loss: 2.303\n",
            "Finished Training\n"
          ]
        }
      ],
      "source": [
        "for epoch in range(2):  # loop over the dataset multiple times\n",
        "\n",
        "    running_loss = 0.0\n",
        "    for i, data in enumerate(trainloader, 0):\n",
        "        # get the inputs and move them to GPU\n",
        "        inputs, labels = data\n",
        "        inputs, labels = inputs.cuda(), labels.cuda()\n",
        "\n",
        "        # zero the parameter gradients\n",
        "        optimizer.zero_grad()\n",
        "\n",
        "        # forward + backward + optimize\n",
        "        outputs = net(inputs)\n",
        "        loss = criterion(outputs, labels)\n",
        "        loss.backward()\n",
        "        optimizer.step()\n",
        "\n",
        "        # print statistics\n",
        "        running_loss += loss.item()\n",
        "        if i % 2000 == 1999:    # print every 2000 mini-batches\n",
        "            print('[%d, %5d] loss: %.3f' %\n",
        "                  (epoch + 1, i + 1, running_loss / 2000))\n",
        "            running_loss = 0.0\n",
        "\n",
        "print('Finished Training')"
      ]
    },
    {
      "cell_type": "markdown",
      "metadata": {
        "id": "PMegZrA_Vfqm"
      },
      "source": [
        "5. Test the network on the test data\n",
        "^^^^^^^^^^^^^^^^^^^^^^^^^^^^^^^^^^^^\n",
        "\n",
        "We have trained the network for 2 passes over the training dataset.\n",
        "But we need to check if the network has learnt anything at all.\n",
        "\n",
        "We will check this by predicting the class label that the neural network\n",
        "outputs, and checking it against the ground-truth. If the prediction is\n",
        "correct, we add the sample to the list of correct predictions.\n",
        "\n",
        "Okay, first step. Let us display an image from the test set to get familiar.\n",
        "\n"
      ]
    },
    {
      "cell_type": "code",
      "execution_count": 23,
      "metadata": {
        "id": "yjoQ_gLkVfqm",
        "outputId": "1bc3ad81-2deb-49f4-c87f-271f2502f5d1",
        "colab": {
          "base_uri": "https://localhost:8080/",
          "height": 210
        }
      },
      "outputs": [
        {
          "output_type": "stream",
          "name": "stdout",
          "text": [
            "GroundTruth:    cat  ship  ship plane\n"
          ]
        },
        {
          "output_type": "display_data",
          "data": {
            "text/plain": [
              "<Figure size 640x480 with 1 Axes>"
            ],
            "image/png": "[encoded data removed]"
          },
          "metadata": {}
        }
      ],
      "source": [
        "dataiter = iter(testloader)\n",
        "images, labels = next(dataiter) # Use next(dataiter) instead of dataiter.next()\n",
        "\n",
        "# print images\n",
        "imshow(torchvision.utils.make_grid(images))\n",
        "print('GroundTruth: ', ' '.join('%5s' % classes[labels[j]] for j in range(4)))"
      ]
    },
    {
      "cell_type": "markdown",
      "metadata": {
        "id": "3-GAkX_oVfqm"
      },
      "source": [
        "Okay, now let us see what the neural network thinks these examples above are:\n",
        "\n"
      ]
    },
    {
      "cell_type": "code",
      "execution_count": 25,
      "metadata": {
        "id": "VKJ6GXIAVfqn"
      },
      "outputs": [],
      "source": [
        "# ... (previous code) ...\n",
        "\n",
        "# Move the input images to the GPU\n",
        "images = images.to(device)\n",
        "\n",
        "# Now you can pass the images to the network\n",
        "outputs = net(images)\n",
        "\n",
        "# ... (rest of the code) ..."
      ]
    },
    {
      "cell_type": "markdown",
      "metadata": {
        "id": "tI-pYLFdVfqn"
      },
      "source": [
        "The outputs are energies for the 10 classes.\n",
        "Higher the energy for a class, the more the network\n",
        "thinks that the image is of the particular class.\n",
        "So, let's get the index of the highest energy:\n",
        "\n"
      ]
    },
    {
      "cell_type": "code",
      "execution_count": 26,
      "metadata": {
        "id": "D500nZYbVfqn",
        "outputId": "999134b7-c51d-4dca-f5ce-28d9aa36413f",
        "colab": {
          "base_uri": "https://localhost:8080/"
        }
      },
      "outputs": [
        {
          "output_type": "stream",
          "name": "stdout",
          "text": [
            "Predicted:    cat   cat   cat   cat\n"
          ]
        }
      ],
      "source": [
        "_, predicted = torch.max(outputs, 1)\n",
        "\n",
        "print('Predicted: ', ' '.join('%5s' % classes[predicted[j]]\n",
        "                              for j in range(4)))"
      ]
    },
    {
      "cell_type": "markdown",
      "metadata": {
        "id": "WS6zKFr_Vfqn"
      },
      "source": [
        "The results seem pretty good.\n",
        "\n",
        "Let us look at how the network performs on the whole dataset.\n",
        "\n"
      ]
    },
    {
      "cell_type": "code",
      "execution_count": 28,
      "metadata": {
        "id": "4iY2U5LPVfqn",
        "outputId": "26d92a4d-d337-4fea-cc9c-4bc28c1dddcd",
        "colab": {
          "base_uri": "https://localhost:8080/"
        }
      },
      "outputs": [
        {
          "output_type": "stream",
          "name": "stdout",
          "text": [
            "Accuracy of the network on the 10000 test images: 10 %\n"
          ]
        }
      ],
      "source": [
        "correct = 0\n",
        "total = 0\n",
        "with torch.no_grad():\n",
        "    for data in testloader:\n",
        "        images, labels = data\n",
        "        # Move images and labels to the same device as the model\n",
        "        images, labels = images.to(device), labels.to(device)\n",
        "        outputs = net(images)\n",
        "        _, predicted = torch.max(outputs.data, 1)\n",
        "        total += labels.size(0)\n",
        "        correct += (predicted == labels).sum().item()\n",
        "\n",
        "print('Accuracy of the network on the 10000 test images: %d %%' % (\n",
        "    100 * correct / total))"
      ]
    },
    {
      "cell_type": "markdown",
      "metadata": {
        "id": "izQBXLRAVfqn"
      },
      "source": [
        "That looks waaay better than chance, which is 10% accuracy (randomly picking\n",
        "a class out of 10 classes).\n",
        "Seems like the network learnt something.\n",
        "\n",
        "Hmmm, what are the classes that performed well, and the classes that did\n",
        "not perform well:\n",
        "\n"
      ]
    },
    {
      "cell_type": "code",
      "execution_count": 30,
      "metadata": {
        "id": "EF9tBLUFVfqn"
      },
      "outputs": [],
      "source": [
        "class_correct = list(0. for i in range(10))\n",
        "class_total = list(0. for i in range(10))\n",
        "with torch.no_grad():\n",
        "    for data in testloader:\n",
        "        images, labels = data\n",
        "        # Move images and labels to the same device as the model\n",
        "        images, labels = images.to(device), labels.to(device) # This line is added\n",
        "        outputs = net(images)\n",
        "        _, predicted = torch.max(outputs, 1)\n",
        "        c = (predicted == labels).squeeze()\n",
        "        for i in range(4):\n",
        "            label = labels[i]\n"
      ]
    },
    {
      "cell_type": "markdown",
      "metadata": {
        "id": "7qVHtzDNVfqn"
      },
      "source": [
        "Okay, so what next?\n",
        "\n",
        "How do we run these neural networks on the GPU?\n",
        "\n",
        "Training on GPU\n",
        "----------------\n",
        "Just like how you transfer a Tensor on to the GPU, you transfer the neural\n",
        "net onto the GPU.\n",
        "\n",
        "Let's first define our device as the first visible cuda device if we have\n",
        "CUDA available:\n",
        "\n"
      ]
    },
    {
      "cell_type": "code",
      "execution_count": 31,
      "metadata": {
        "id": "xTeeOPsaVfqn",
        "outputId": "4beddc66-25b5-44f4-9fef-d9560d5e64e0",
        "colab": {
          "base_uri": "https://localhost:8080/"
        }
      },
      "outputs": [
        {
          "output_type": "stream",
          "name": "stdout",
          "text": [
            "cuda:0\n"
          ]
        }
      ],
      "source": [
        "device = torch.device(\"cuda:0\" if torch.cuda.is_available() else \"cpu\")\n",
        "\n",
        "# Assume that we are on a CUDA machine, then this should print a CUDA device:\n",
        "\n",
        "print(device)"
      ]
    },
    {
      "cell_type": "markdown",
      "metadata": {
        "id": "p-67dt-kVfqn"
      },
      "source": [
        "The rest of this section assumes that `device` is a CUDA device.\n",
        "\n",
        "Then these methods will recursively go over all modules and convert their\n",
        "parameters and buffers to CUDA tensors:\n",
        "\n",
        ".. code:: python\n",
        "\n",
        "    net.to(device)\n",
        "\n",
        "\n",
        "Remember that you will have to send the inputs and targets at every step\n",
        "to the GPU too:\n",
        "\n",
        ".. code:: python\n",
        "\n",
        "        inputs, labels = inputs.to(device), labels.to(device)\n",
        "\n",
        "Why dont I notice MASSIVE speedup compared to CPU? Because your network\n",
        "is realllly small.\n",
        "\n",
        "**Exercise:** Try increasing the width of your network (argument 2 of\n",
        "the first ``nn.Conv2d``, and argument 1 of the second ``nn.Conv2d`` –\n",
        "they need to be the same number), see what kind of speedup you get.\n",
        "\n",
        "**Goals achieved**:\n",
        "\n",
        "- Understanding PyTorch's Tensor library and neural networks at a high level.\n",
        "- Train a small neural network to classify images\n",
        "\n",
        "Training on multiple GPUs\n",
        "-------------------------\n",
        "If you want to see even more MASSIVE speedup using all of your GPUs,\n",
        "please check out :doc:`data_parallel_tutorial`.\n",
        "\n",
        "Where do I go next?\n",
        "-------------------\n",
        "\n",
        "-  :doc:`Train neural nets to play video games </intermediate/reinforcement_q_learning>`\n",
        "-  `Train a state-of-the-art ResNet network on imagenet`_\n",
        "-  `Train a face generator using Generative Adversarial Networks`_\n",
        "-  `Train a word-level language model using Recurrent LSTM networks`_\n",
        "-  `More examples`_\n",
        "-  `More tutorials`_\n",
        "-  `Discuss PyTorch on the Forums`_\n",
        "-  `Chat with other users on Slack`_\n",
        "\n",
        "\n"
      ]
    }
  ],
  "metadata": {
    "kernelspec": {
      "display_name": "Python 3",
      "name": "python3"
    },
    "language_info": {
      "codemirror_mode": {
        "name": "ipython",
        "version": 3
      },
      "file_extension": ".py",
      "mimetype": "text/x-python",
      "name": "python",
      "nbconvert_exporter": "python",
      "pygments_lexer": "ipython3",
      "version": "3.6.6"
    },
    "colab": {
      "provenance": [],
      "gpuType": "T4",
      "include_colab_link": true
    },
    "accelerator": "GPU"
  },
  "nbformat": 4,
  "nbformat_minor": 0
}